{
 "cells": [
  {
   "cell_type": "code",
   "execution_count": 1,
   "id": "ad965482-a89b-4671-8642-e167fd839220",
   "metadata": {},
   "outputs": [],
   "source": [
    "import pandas as pd\n",
    "import numpy as np"
   ]
  },
  {
   "cell_type": "code",
   "execution_count": 3,
   "id": "b231979e-45ed-4a8f-9245-d0dc8adaa766",
   "metadata": {},
   "outputs": [
    {
     "data": {
      "text/plain": [
       "0    1\n",
       "1    2\n",
       "2    3\n",
       "3    4\n",
       "4    5\n",
       "dtype: int32"
      ]
     },
     "execution_count": 3,
     "metadata": {},
     "output_type": "execute_result"
    }
   ],
   "source": [
    "valores = np.array([1, 2, 3, 4, 5])\n",
    "serie = pd.Series(valores)\n",
    "serie"
   ]
  },
  {
   "cell_type": "code",
   "execution_count": null,
   "id": "b7127d62-ca18-44fb-be48-d4d58720a669",
   "metadata": {},
   "outputs": [],
   "source": [
    "# Es una MATRIZ unidimensional (una sola dimensión)  que puede contener cualquier tipo de datos (enteros, cadenas, floats, objetos de Python, etc.). \n",
    "# La serie también posee un índice. Dispone de varios tipos de constructores."
   ]
  },
  {
   "cell_type": "code",
   "execution_count": 4,
   "id": "f14a199a-c3a5-472f-9b30-7e2adb2aa24c",
   "metadata": {},
   "outputs": [
    {
     "data": {
      "text/plain": [
       "RangeIndex(start=0, stop=5, step=1)"
      ]
     },
     "execution_count": 4,
     "metadata": {},
     "output_type": "execute_result"
    }
   ],
   "source": [
    "serie.index"
   ]
  },
  {
   "cell_type": "code",
   "execution_count": null,
   "id": "8f3162b2-7940-49b7-acc8-4ef583f5fdab",
   "metadata": {},
   "outputs": [],
   "source": [
    "# Tienen un índice. Autoincrementado desde 0.\n",
    "# Podemos consultar ese índice con .index. Dice que va desde el cero hasta el 5 de 1 en 1."
   ]
  },
  {
   "cell_type": "code",
   "execution_count": null,
   "id": "5b4c8997-04b8-4331-b7db-44d5ba2e4f12",
   "metadata": {},
   "outputs": [],
   "source": [
    "# Podemos definir nuestro propio índice con pd.Series(valores, index = [...] ejemplo: [‘a’, ‘b’, ‘c’]"
   ]
  },
  {
   "cell_type": "code",
   "execution_count": 5,
   "id": "b53fc466-d1e8-45f6-9446-88e837088d92",
   "metadata": {},
   "outputs": [
    {
     "data": {
      "text/plain": [
       "a    1\n",
       "b    2\n",
       "c    3\n",
       "d    4\n",
       "e    5\n",
       "dtype: int32"
      ]
     },
     "execution_count": 5,
     "metadata": {},
     "output_type": "execute_result"
    }
   ],
   "source": [
    "serie = pd.Series(valores, index = ['a','b','c','d','e'])\n",
    "serie"
   ]
  },
  {
   "cell_type": "code",
   "execution_count": 6,
   "id": "e99813c9-0d61-4ca5-9512-91d366aba359",
   "metadata": {},
   "outputs": [
    {
     "data": {
      "text/plain": [
       "Index(['a', 'b', 'c', 'd', 'e'], dtype='object')"
      ]
     },
     "execution_count": 6,
     "metadata": {},
     "output_type": "execute_result"
    }
   ],
   "source": [
    "serie.index"
   ]
  },
  {
   "cell_type": "code",
   "execution_count": 7,
   "id": "df0b5f16-b82f-40ab-8ce1-0ac60072806f",
   "metadata": {},
   "outputs": [
    {
     "data": {
      "text/plain": [
       "a    1\n",
       "b    2\n",
       "c    3\n",
       "d    4\n",
       "e    5\n",
       "dtype: int64"
      ]
     },
     "execution_count": 7,
     "metadata": {},
     "output_type": "execute_result"
    }
   ],
   "source": [
    "# Podemos hacer una serie a partir de un diccionario de python \n",
    "d = {'a':1, 'b':2, 'c':3, 'd':4, 'e':5}\n",
    "serie = pd.Series(d)\n",
    "serie"
   ]
  },
  {
   "cell_type": "code",
   "execution_count": 8,
   "id": "921de1a9-bdc2-4362-b7ff-2fde38c65143",
   "metadata": {},
   "outputs": [
    {
     "data": {
      "text/plain": [
       "b    2\n",
       "c    3\n",
       "a    1\n",
       "e    5\n",
       "d    4\n",
       "dtype: int64"
      ]
     },
     "execution_count": 8,
     "metadata": {},
     "output_type": "execute_result"
    }
   ],
   "source": [
    "# Si usamos el diccionario, y además especificamos un indice, los valores se ordenan según el indice ordenado\n",
    "\n",
    "serie = pd.Series(d, index = ['b','c','a','e','d'])\n",
    "serie"
   ]
  },
  {
   "cell_type": "code",
   "execution_count": 9,
   "id": "6bc2a3e6-1cf8-4192-9548-5c21823bfe51",
   "metadata": {},
   "outputs": [
    {
     "data": {
      "text/plain": [
       "15"
      ]
     },
     "execution_count": 9,
     "metadata": {},
     "output_type": "execute_result"
    }
   ],
   "source": [
    "# Podemos utilizar funciones de numpy con un np.sum(serie) donde serie es una serie de Panda. \n",
    "# La serie actúa de manera muy similar a un numpy array y es un argumento válido para la mayoría de las funciones NumPy.\n",
    "np.sum(serie)"
   ]
  },
  {
   "cell_type": "code",
   "execution_count": 11,
   "id": "02819f02-c8d9-4468-a3bf-8beff6ecdd81",
   "metadata": {},
   "outputs": [
    {
     "data": {
      "text/plain": [
       "5"
      ]
     },
     "execution_count": 11,
     "metadata": {},
     "output_type": "execute_result"
    }
   ],
   "source": [
    "# También podemos utilizar el max\n",
    "np.max(serie)"
   ]
  },
  {
   "cell_type": "code",
   "execution_count": 13,
   "id": "afc65ca9-b5c6-4867-962f-134c9886fb97",
   "metadata": {},
   "outputs": [
    {
     "data": {
      "text/plain": [
       "2"
      ]
     },
     "execution_count": 13,
     "metadata": {},
     "output_type": "execute_result"
    }
   ],
   "source": [
    "# Podemos consultar valores de una serie, preguntando por el índice y devolviendo el valor.\n",
    "serie['b']"
   ]
  },
  {
   "cell_type": "code",
   "execution_count": 14,
   "id": "49784022-01c1-4291-9a6c-bf5ff23fe986",
   "metadata": {},
   "outputs": [
    {
     "data": {
      "text/plain": [
       "2"
      ]
     },
     "execution_count": 14,
     "metadata": {},
     "output_type": "execute_result"
    }
   ],
   "source": [
    "# Podemos también preguntar por la posición, independientemente del valor del índice\n",
    "serie[0]"
   ]
  },
  {
   "cell_type": "code",
   "execution_count": 15,
   "id": "73fbc533-34e7-4dac-b5aa-a662f9d82b03",
   "metadata": {},
   "outputs": [
    {
     "data": {
      "text/plain": [
       "array([2, 3, 1, 5, 4], dtype=int64)"
      ]
     },
     "execution_count": 15,
     "metadata": {},
     "output_type": "execute_result"
    }
   ],
   "source": [
    "# También podemos transformar la serie a un array de numpy\n",
    "serie.to_numpy()"
   ]
  },
  {
   "cell_type": "code",
   "execution_count": 17,
   "id": "04f5f7ec-4b8b-4c57-8ffd-eb8498e4ab81",
   "metadata": {},
   "outputs": [
    {
     "data": {
      "text/plain": [
       "b    2\n",
       "c    3\n",
       "a    1\n",
       "e    5\n",
       "d    4\n",
       "dtype: int64"
      ]
     },
     "execution_count": 17,
     "metadata": {},
     "output_type": "execute_result"
    }
   ],
   "source": [
    "serie"
   ]
  },
  {
   "cell_type": "code",
   "execution_count": 18,
   "id": "e5ded610-a37b-4bec-85d6-060dbc211fbb",
   "metadata": {},
   "outputs": [
    {
     "data": {
      "text/plain": [
       "b    2\n",
       "c    3\n",
       "a    1\n",
       "e    5\n",
       "d    4\n",
       "f    6\n",
       "dtype: int64"
      ]
     },
     "execution_count": 18,
     "metadata": {},
     "output_type": "execute_result"
    }
   ],
   "source": [
    "# También podemos añadir nuevos valores así \n",
    "serie['f'] = 6\n",
    "serie"
   ]
  },
  {
   "cell_type": "code",
   "execution_count": 19,
   "id": "51baa107-51d6-4d1b-9ce1-512d0f1854a5",
   "metadata": {},
   "outputs": [
    {
     "data": {
      "text/plain": [
       "True"
      ]
     },
     "execution_count": 19,
     "metadata": {},
     "output_type": "execute_result"
    }
   ],
   "source": [
    "# También podemos preguntar si un índice está en la serie o no\n",
    "'e' in serie"
   ]
  },
  {
   "cell_type": "code",
   "execution_count": 20,
   "id": "925bbd20-6182-48df-8c13-e52e72e8c5ce",
   "metadata": {},
   "outputs": [
    {
     "data": {
      "text/plain": [
       "b     4\n",
       "c     6\n",
       "a     2\n",
       "e    10\n",
       "d     8\n",
       "f    12\n",
       "dtype: int64"
      ]
     },
     "execution_count": 20,
     "metadata": {},
     "output_type": "execute_result"
    }
   ],
   "source": [
    "# También podemos realizar operaciones a esa serie. Por ejemplo, multiplicar los valores por dos fácilmente\n",
    "serie * 2"
   ]
  },
  {
   "cell_type": "code",
   "execution_count": 23,
   "id": "a120ef73-e29f-4044-9adb-faab67a9ef88",
   "metadata": {},
   "outputs": [
    {
     "data": {
      "text/plain": [
       "b    5\n",
       "c    1\n",
       "a    3\n",
       "e    7\n",
       "d    3\n",
       "f    1\n",
       "dtype: int32"
      ]
     },
     "execution_count": 23,
     "metadata": {},
     "output_type": "execute_result"
    }
   ],
   "source": [
    "# También podemos realizar sumas de distintas series. Creamos una serie2 con números aleatorios usando random. Índice a índice sumará dichos valores de la serie1 y serie2\n",
    "serie2 = pd.Series(np.random.randint(0,10,6), index = ['b', 'c', 'a', 'e', 'd', 'f'])\n",
    "serie2"
   ]
  },
  {
   "cell_type": "code",
   "execution_count": 24,
   "id": "6b784f4f-23c0-4a17-96d3-c3cd7dc8748f",
   "metadata": {},
   "outputs": [
    {
     "data": {
      "text/plain": [
       "b     7\n",
       "c     4\n",
       "a     4\n",
       "e    12\n",
       "d     7\n",
       "f     7\n",
       "dtype: int64"
      ]
     },
     "execution_count": 24,
     "metadata": {},
     "output_type": "execute_result"
    }
   ],
   "source": [
    "# Si algún índice no coincide se almacenará un NaN\n",
    "serie + serie2"
   ]
  },
  {
   "cell_type": "code",
   "execution_count": 25,
   "id": "34a83686-abad-49b6-abb7-aaf2f8237aeb",
   "metadata": {},
   "outputs": [
    {
     "data": {
      "text/plain": [
       "b     5\n",
       "c     1\n",
       "a     3\n",
       "e     7\n",
       "d     3\n",
       "f     1\n",
       "g    10\n",
       "dtype: int64"
      ]
     },
     "execution_count": 25,
     "metadata": {},
     "output_type": "execute_result"
    }
   ],
   "source": [
    "serie2['g'] = 10\n",
    "serie2"
   ]
  },
  {
   "cell_type": "code",
   "execution_count": 26,
   "id": "a9cd7192-6533-466a-9f19-d5d3feeb6d1f",
   "metadata": {},
   "outputs": [
    {
     "data": {
      "text/plain": [
       "b    2\n",
       "c    3\n",
       "a    1\n",
       "e    5\n",
       "d    4\n",
       "f    6\n",
       "dtype: int64"
      ]
     },
     "execution_count": 26,
     "metadata": {},
     "output_type": "execute_result"
    }
   ],
   "source": [
    "serie"
   ]
  },
  {
   "cell_type": "code",
   "execution_count": 28,
   "id": "d6791a16-c6fe-4248-ae99-d6d7d2e523a7",
   "metadata": {},
   "outputs": [
    {
     "data": {
      "text/plain": [
       "a     4.0\n",
       "b     7.0\n",
       "c     4.0\n",
       "d     7.0\n",
       "e    12.0\n",
       "f     7.0\n",
       "g     NaN\n",
       "dtype: float64"
      ]
     },
     "execution_count": 28,
     "metadata": {},
     "output_type": "execute_result"
    }
   ],
   "source": [
    "serie + serie2"
   ]
  },
  {
   "cell_type": "code",
   "execution_count": null,
   "id": "9420c71a-fa69-449d-bead-c7364add30c1",
   "metadata": {},
   "outputs": [],
   "source": [
    "# Ojo que los trasforma a float"
   ]
  }
 ],
 "metadata": {
  "kernelspec": {
   "display_name": "Python 3 (ipykernel)",
   "language": "python",
   "name": "python3"
  },
  "language_info": {
   "codemirror_mode": {
    "name": "ipython",
    "version": 3
   },
   "file_extension": ".py",
   "mimetype": "text/x-python",
   "name": "python",
   "nbconvert_exporter": "python",
   "pygments_lexer": "ipython3",
   "version": "3.7.15"
  }
 },
 "nbformat": 4,
 "nbformat_minor": 5
}
